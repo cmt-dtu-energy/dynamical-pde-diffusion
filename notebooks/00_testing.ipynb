{
 "cells": [
  {
   "cell_type": "code",
   "execution_count": 1,
   "id": "daf7eb41",
   "metadata": {},
   "outputs": [],
   "source": [
    "import os\n",
    "os.environ[\"KMP_DUPLICATE_LIB_OK\"] = \"TRUE\"\n",
    "\n",
    "import numpy as np\n",
    "import torch\n",
    "import diffusion_pde as dpde\n",
    "from pathlib import Path\n",
    "from scipy.io import loadmat\n",
    "\n",
    "import matplotlib.pyplot as plt"
   ]
  },
  {
   "cell_type": "code",
   "execution_count": 2,
   "id": "2c3bbcac",
   "metadata": {},
   "outputs": [
    {
     "name": "stdout",
     "output_type": "stream",
     "text": [
      "Data directory: c:\\Users\\Phill\\Documents\\School\\MSc\\4. Sem\\Diffusion\\dynamical-pde-diffusion\\data\n"
     ]
    }
   ],
   "source": [
    "data_dir = Path().cwd().parent / \"data\"\n",
    "print(\"Data directory:\", data_dir)"
   ]
  },
  {
   "cell_type": "code",
   "execution_count": 3,
   "id": "93c34ce3",
   "metadata": {},
   "outputs": [],
   "source": [
    "data_shape = (64, 64) # (h, w)\n",
    "num_ch_a = 1\n",
    "num_ch_u = 2\n",
    "N = 100\n",
    "num_tsteps = 50\n",
    "label_dim = 3\n",
    "\n",
    "t_steps = np.linspace(0, 1, num_tsteps)  # shape (T,)\n",
    "labels = np.ones((N, label_dim))  # shape (N, label_dim)\n",
    "init_cond = np.zeros((N, num_ch_a, *data_shape))  # shape (N, ch0, h, w)\n",
    "data = np.zeros((N, num_ch_u, *data_shape, num_tsteps))  # shape (N, ch1, h, w, T)\n",
    "\n",
    "dataset = dpde.datasets.DiffusionDataset(\n",
    "    init_state=init_cond, \n",
    "    data=data, \n",
    "    t_steps=t_steps, \n",
    "    labels=labels\n",
    ")"
   ]
  },
  {
   "cell_type": "code",
   "execution_count": 4,
   "id": "567872d8",
   "metadata": {},
   "outputs": [
    {
     "name": "stdout",
     "output_type": "stream",
     "text": [
      "X shape: torch.Size([10, 3, 64, 64]) Expected shape: (2, 3, 64, 64)\n",
      "Label shape: torch.Size([10, 4]) Expected shape: (2, 4)\n"
     ]
    }
   ],
   "source": [
    "dataloader = torch.utils.data.DataLoader(dataset, batch_size=10, shuffle=False)\n",
    "\n",
    "X, label = next(iter(dataloader))\n",
    "print(\"X shape:\", X.shape, f\"Expected shape: (2, {num_ch_a + num_ch_u}, {data_shape[0]}, {data_shape[1]})\")  # Expected shape: (2, ch0 + ch1, h, w)\n",
    "print(\"Label shape:\", label.shape, f\"Expected shape: (2, {label_dim + 1})\")"
   ]
  },
  {
   "cell_type": "code",
   "execution_count": 5,
   "id": "865a82fa",
   "metadata": {},
   "outputs": [],
   "source": [
    "chs = [num_ch_a + num_ch_u, 32, 64, 128, 256]\n",
    "\n",
    "unet = dpde.models.Unet(chs, label_ch=label_dim + 1)\n",
    "edm_model = dpde.models.EDMWrapper(unet)\n",
    "loss = dpde.models.EDMLoss()"
   ]
  },
  {
   "cell_type": "code",
   "execution_count": 8,
   "id": "97ae0c0e",
   "metadata": {},
   "outputs": [
    {
     "name": "stdout",
     "output_type": "stream",
     "text": [
      "device: cuda\n"
     ]
    }
   ],
   "source": [
    "device = torch.device(\"cuda\" if torch.cuda.is_available() else \"cpu\")\n",
    "print(f\"device: {device}\")\n",
    "edm_model = edm_model.to(device)"
   ]
  },
  {
   "cell_type": "code",
   "execution_count": 10,
   "id": "4b81c6e1",
   "metadata": {},
   "outputs": [],
   "source": [
    "wandb_kwargs = {\n",
    "    \"entity\": \"philiphohwy-danmarks-tekniske-universitet-dtu\",\n",
    "    \"project\": \"dynamical-pde-diffusion\",\n",
    "    \"name\": \"test-run2\",\n",
    "    \"tags\": [\"testing\", \"unet\", \"edm\"],\n",
    "    \"notes\": \"This is a test run to check if the training loop works.\",\n",
    "}"
   ]
  },
  {
   "cell_type": "code",
   "execution_count": 11,
   "id": "181aa7b0",
   "metadata": {},
   "outputs": [
    {
     "name": "stderr",
     "output_type": "stream",
     "text": [
      "wandb: Currently logged in as: philiphohwy (philiphohwy-danmarks-tekniske-universitet-dtu) to https://api.wandb.ai. Use `wandb login --relogin` to force relogin\n"
     ]
    },
    {
     "data": {
      "text/html": [],
      "text/plain": [
       "<IPython.core.display.HTML object>"
      ]
     },
     "metadata": {},
     "output_type": "display_data"
    },
    {
     "data": {
      "text/html": [
       "Tracking run with wandb version 0.22.1"
      ],
      "text/plain": [
       "<IPython.core.display.HTML object>"
      ]
     },
     "metadata": {},
     "output_type": "display_data"
    },
    {
     "data": {
      "text/html": [
       "Run data is saved locally in <code>C:\\Users\\Phill\\Documents\\School\\MSc\\4. Sem\\Diffusion\\dynamical-pde-diffusion\\log\\wandb\\run-20251007_113318-ml0ecle6</code>"
      ],
      "text/plain": [
       "<IPython.core.display.HTML object>"
      ]
     },
     "metadata": {},
     "output_type": "display_data"
    },
    {
     "data": {
      "text/html": [
       "Syncing run <strong><a href='https://wandb.ai/philiphohwy-danmarks-tekniske-universitet-dtu/dynamical-pde-diffusion/runs/ml0ecle6' target=\"_blank\">test-run2</a></strong> to <a href='https://wandb.ai/philiphohwy-danmarks-tekniske-universitet-dtu/dynamical-pde-diffusion' target=\"_blank\">Weights & Biases</a> (<a href='https://wandb.me/developer-guide' target=\"_blank\">docs</a>)<br>"
      ],
      "text/plain": [
       "<IPython.core.display.HTML object>"
      ]
     },
     "metadata": {},
     "output_type": "display_data"
    },
    {
     "data": {
      "text/html": [
       " View project at <a href='https://wandb.ai/philiphohwy-danmarks-tekniske-universitet-dtu/dynamical-pde-diffusion' target=\"_blank\">https://wandb.ai/philiphohwy-danmarks-tekniske-universitet-dtu/dynamical-pde-diffusion</a>"
      ],
      "text/plain": [
       "<IPython.core.display.HTML object>"
      ]
     },
     "metadata": {},
     "output_type": "display_data"
    },
    {
     "data": {
      "text/html": [
       " View run at <a href='https://wandb.ai/philiphohwy-danmarks-tekniske-universitet-dtu/dynamical-pde-diffusion/runs/ml0ecle6' target=\"_blank\">https://wandb.ai/philiphohwy-danmarks-tekniske-universitet-dtu/dynamical-pde-diffusion/runs/ml0ecle6</a>"
      ],
      "text/plain": [
       "<IPython.core.display.HTML object>"
      ]
     },
     "metadata": {},
     "output_type": "display_data"
    },
    {
     "data": {
      "text/html": [],
      "text/plain": [
       "<IPython.core.display.HTML object>"
      ]
     },
     "metadata": {},
     "output_type": "display_data"
    },
    {
     "data": {
      "text/html": [
       "<br>    <style><br>        .wandb-row {<br>            display: flex;<br>            flex-direction: row;<br>            flex-wrap: wrap;<br>            justify-content: flex-start;<br>            width: 100%;<br>        }<br>        .wandb-col {<br>            display: flex;<br>            flex-direction: column;<br>            flex-basis: 100%;<br>            flex: 1;<br>            padding: 10px;<br>        }<br>    </style><br><div class=\"wandb-row\"><div class=\"wandb-col\"><h3>Run history:</h3><br/><table class=\"wandb\"><tr><td>Loss/train/epoch</td><td>▁█▁▃▃</td></tr></table><br/></div><div class=\"wandb-col\"><h3>Run summary:</h3><br/><table class=\"wandb\"><tr><td>Loss/train/epoch</td><td>6.2038</td></tr></table><br/></div></div>"
      ],
      "text/plain": [
       "<IPython.core.display.HTML object>"
      ]
     },
     "metadata": {},
     "output_type": "display_data"
    },
    {
     "data": {
      "text/html": [
       " View run <strong style=\"color:#cdcd00\">test-run2</strong> at: <a href='https://wandb.ai/philiphohwy-danmarks-tekniske-universitet-dtu/dynamical-pde-diffusion/runs/ml0ecle6' target=\"_blank\">https://wandb.ai/philiphohwy-danmarks-tekniske-universitet-dtu/dynamical-pde-diffusion/runs/ml0ecle6</a><br> View project at: <a href='https://wandb.ai/philiphohwy-danmarks-tekniske-universitet-dtu/dynamical-pde-diffusion' target=\"_blank\">https://wandb.ai/philiphohwy-danmarks-tekniske-universitet-dtu/dynamical-pde-diffusion</a><br>Synced 5 W&B file(s), 0 media file(s), 0 artifact file(s) and 0 other file(s)"
      ],
      "text/plain": [
       "<IPython.core.display.HTML object>"
      ]
     },
     "metadata": {},
     "output_type": "display_data"
    },
    {
     "data": {
      "text/html": [
       "Find logs at: <code>C:\\Users\\Phill\\Documents\\School\\MSc\\4. Sem\\Diffusion\\dynamical-pde-diffusion\\log\\wandb\\run-20251007_113318-ml0ecle6\\logs</code>"
      ],
      "text/plain": [
       "<IPython.core.display.HTML object>"
      ]
     },
     "metadata": {},
     "output_type": "display_data"
    }
   ],
   "source": [
    "dpde.training.train(\n",
    "    model=edm_model,\n",
    "    dataloader=dataloader,\n",
    "    loss_fn=loss,\n",
    "    device=device,\n",
    "    epochs=5,\n",
    "    lr=1e-4,\n",
    "    weight_decay=0.0,\n",
    "    wandb_kwargs=wandb_kwargs\n",
    ")"
   ]
  },
  {
   "cell_type": "code",
   "execution_count": 3,
   "id": "4d4707ee",
   "metadata": {},
   "outputs": [],
   "source": [
    "#data = np.load(data_dir / \"heat_eq_data_1000_64_64_32_0_10.npz\")\n",
    "data = np.load(data_dir / \"heat_eq_data_1000_64_64_64_0_20.npz\")"
   ]
  },
  {
   "cell_type": "code",
   "execution_count": 4,
   "id": "91d73f74",
   "metadata": {},
   "outputs": [
    {
     "name": "stdout",
     "output_type": "stream",
     "text": [
      "(1000, 1, 64, 64, 65)\n",
      "(1000, 1, 64, 64)\n",
      "(65,)\n",
      "(1000,)\n"
     ]
    }
   ],
   "source": [
    "U = data['U']  # shape (N, ch1, h, w, T)\n",
    "A = data['A']  # shape (N, ch0, h, w)\n",
    "t_steps = data['t_steps']  # shape (T,)\n",
    "labels = data['labels']  # shape (N, label_dim)\n",
    "\n",
    "print(U.shape)  # Expected shape: (N, ch1, h, w, T)\n",
    "print(A.shape)  # Expected shape: (N, ch0, h, w)\n",
    "print(t_steps.shape)  # Expected shape: (T,)\n",
    "print(labels.shape)  # Expected shape: (N, label_dim)"
   ]
  },
  {
   "cell_type": "code",
   "execution_count": 10,
   "id": "07b20217",
   "metadata": {},
   "outputs": [
    {
     "name": "stdout",
     "output_type": "stream",
     "text": [
      "U min: -0.6930708885192871, max: 0.4760628342628479\n"
     ]
    },
    {
     "data": {
      "image/png": "[encoded data removed]",
      "text/plain": [
       "<Figure size 1100x500 with 3 Axes>"
      ]
     },
     "metadata": {},
     "output_type": "display_data"
    }
   ],
   "source": [
    "idx = 0\n",
    "vmin, vmax = U[idx].min(), U[idx].max()\n",
    "print(f\"U min: {vmin}, max: {vmax}\")\n",
    "fig, axs = plt.subplots(1, 2, figsize=(11, 5))\n",
    "axs[0].imshow(U[idx, 0, :, :, 0], cmap='hot', vmin=vmin, vmax=vmax)\n",
    "axs[0].set_title(f'Initial Condition: $\\\\alpha={labels[idx]:.2f}$')\n",
    "axs[1].imshow(U[idx, 0, :, :, -1], cmap='hot', vmin=vmin, vmax=vmax)\n",
    "axs[1].set_title('Final Condition')\n",
    "fig.colorbar(axs[1].images[0], ax=axs, orientation='vertical', fraction=.1)\n",
    "plt.show()"
   ]
  },
  {
   "cell_type": "code",
   "execution_count": 6,
   "id": "7e0ca2c5",
   "metadata": {},
   "outputs": [
    {
     "name": "stdout",
     "output_type": "stream",
     "text": [
      "(1000, 64, 64, 64)\n",
      "(1000, 64)\n",
      "(64,)\n"
     ]
    }
   ],
   "source": [
    "diff = U[..., 1:] - U[..., :-1]\n",
    "diff = np.permute_dims(diff, (0, 4, 1, 2, 3)).squeeze()  # shape (N, T-1, h, w)\n",
    "norm_diff = np.linalg.norm(diff.reshape(diff.shape[0], diff.shape[1], -1), axis=-1)  # shape (N, T-1)\n",
    "mean_norm_diff = norm_diff.mean(axis=0)  # shape (T-1,)\n",
    "print(diff.shape)\n",
    "print(norm_diff.shape)\n",
    "print(mean_norm_diff.shape)\n"
   ]
  },
  {
   "cell_type": "code",
   "execution_count": 9,
   "id": "804a487b",
   "metadata": {},
   "outputs": [
    {
     "data": {
      "image/png": "[encoded data removed]",
      "text/plain": [
       "<Figure size 800x500 with 1 Axes>"
      ]
     },
     "metadata": {},
     "output_type": "display_data"
    }
   ],
   "source": [
    "plt.figure(figsize=(8, 5))\n",
    "plt.plot(mean_norm_diff)\n",
    "#plt.plot(norm_diff[:10].T)\n",
    "#plt.yscale('log')\n",
    "#plt.xscale('log')\n",
    "plt.xlabel('Time step')\n",
    "plt.ylabel('Mean L2 norm of difference')\n",
    "plt.title('Mean L2 Norm of Difference Between Consecutive Time Steps')\n",
    "plt.grid(True)\n",
    "plt.show()"
   ]
  },
  {
   "cell_type": "code",
   "execution_count": null,
   "id": "9406f73e",
   "metadata": {},
   "outputs": [],
   "source": []
  }
 ],
 "metadata": {
  "kernelspec": {
   "display_name": "dyndiffenv",
   "language": "python",
   "name": "python3"
  },
  "language_info": {
   "codemirror_mode": {
    "name": "ipython",
    "version": 3
   },
   "file_extension": ".py",
   "mimetype": "text/x-python",
   "name": "python",
   "nbconvert_exporter": "python",
   "pygments_lexer": "ipython3",
   "version": "3.11.13"
  }
 },
 "nbformat": 4,
 "nbformat_minor": 5
}
