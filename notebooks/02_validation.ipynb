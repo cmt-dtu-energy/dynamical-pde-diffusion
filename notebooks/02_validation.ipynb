{
 "cells": [
  {
   "cell_type": "code",
   "execution_count": 75,
   "id": "1f9d133a",
   "metadata": {},
   "outputs": [],
   "source": [
    "#import os\n",
    "#os.environ[\"KMP_DUPLICATE_LIB_OK\"] = \"TRUE\"\n",
    "import math\n",
    "import diffusion_pde as dpde\n",
    "from diffusion_pde.pdes import generate_heat\n",
    "import numpy as np\n",
    "import matplotlib.pyplot as plt\n",
    "import torch\n",
    "import h5py\n",
    "from tqdm import tqdm, trange\n",
    "\n",
    "from pathlib import Path    "
   ]
  },
  {
   "cell_type": "code",
   "execution_count": 87,
   "id": "9028efaa",
   "metadata": {},
   "outputs": [
    {
     "data": {
      "text/plain": [
       "(True, True)"
      ]
     },
     "execution_count": 87,
     "metadata": {},
     "output_type": "execute_result"
    }
   ],
   "source": [
    "data_name = \"logt\"\n",
    "model_path = Path().cwd().parent / \"pretrained_models\" / f\"heat_{data_name}.pth\"\n",
    "data_path = Path().cwd().parent / \"data\" / f\"heat_{data_name}.hdf5\"\n",
    "model_path.exists(), data_path.exists()"
   ]
  },
  {
   "cell_type": "code",
   "execution_count": 88,
   "id": "76427ea9",
   "metadata": {},
   "outputs": [
    {
     "data": {
      "text/plain": [
       "<All keys matched successfully>"
      ]
     },
     "execution_count": 88,
     "metadata": {},
     "output_type": "execute_result"
    }
   ],
   "source": [
    "chs = [2, 32, 64, 128, 256]\n",
    "noise_ch = 32\n",
    "label_ch = 2\n",
    "\n",
    "device = torch.device(\"cuda\" if torch.cuda.is_available() else \"cpu\")\n",
    "\n",
    "unet = dpde.models.Unet(chs=chs, label_ch=label_ch, noise_ch=noise_ch)\n",
    "edm = dpde.models.EDMWrapper(unet)\n",
    "\n",
    "edm.to(device)\n",
    "\n",
    "edm.load_state_dict(torch.load(model_path, weights_only=True))"
   ]
  },
  {
   "cell_type": "code",
   "execution_count": 89,
   "id": "c21a095e",
   "metadata": {},
   "outputs": [
    {
     "name": "stdout",
     "output_type": "stream",
     "text": [
      "A shape:  (200, 1, 64, 64)\n",
      "U shape:  (200, 1, 64, 64, 65)\n",
      "Labels shape:  (200, 1)\n",
      "t_steps shape:  (65,)\n",
      "Lx : 1.0\n",
      "Ly : 1.0\n",
      "S : 64\n",
      "T : 0.5\n",
      "alpha_logrange : [-2.  0.]\n",
      "description : 2D heat equation with linear Dirichlet BCs, data generated with sine-pseudospectral method with lifting. Time steps in log-scale.\n",
      "dx : 0.015873015873015872\n",
      "name : heat_logt\n",
      "num_test : 200\n",
      "num_train : 800\n",
      "steps : 64\n"
     ]
    }
   ],
   "source": [
    "with h5py.File(data_path, \"r\") as f:\n",
    "    attrs = dict(f.attrs)\n",
    "    data_A = f[\"test/A\"][:]  # (N, 1, S, S)\n",
    "    data_U = f[\"test/U\"][:]  # (N, 1, S, S, steps+1)\n",
    "    data_labels = f[\"test/labels\"][:]  # (N,)\n",
    "    t_steps = f[\"t_steps\"][:]  # (steps+1,)\n",
    "print(\"A shape: \", data_A.shape)  # (N, 1, S, S)\n",
    "print(\"U shape: \", data_U.shape)  # (N, 1, S, S, steps+1)\n",
    "print(\"Labels shape: \", data_labels.shape)  # (N,)\n",
    "print(\"t_steps shape: \", t_steps.shape)  # (steps+1,)\n",
    "\n",
    "[print(k, \":\", v) for k, v in attrs.items()];"
   ]
  },
  {
   "cell_type": "code",
   "execution_count": 90,
   "id": "817a4791",
   "metadata": {},
   "outputs": [],
   "source": [
    "T = attrs[\"T\"]\n",
    "S = attrs[\"S\"]\n",
    "Lx = attrs[\"Lx\"]\n",
    "Ly = attrs[\"Ly\"]"
   ]
  },
  {
   "cell_type": "code",
   "execution_count": 91,
   "id": "112b2081",
   "metadata": {},
   "outputs": [
    {
     "name": "stdout",
     "output_type": "stream",
     "text": [
      "Using device: cuda\n"
     ]
    }
   ],
   "source": [
    "device = torch.device(\"cuda\" if torch.cuda.is_available() else \"cpu\")\n",
    "print(\"Using device:\", device)"
   ]
  },
  {
   "cell_type": "code",
   "execution_count": 93,
   "id": "ecc9d609",
   "metadata": {},
   "outputs": [],
   "source": [
    "NUM_TEST_SAMPLES = 50\n",
    "T_STEPS = 100\n",
    "SEED = 42\n",
    "\n",
    "#spacing_fn = lambda start, stop, num_steps: torch.logspace(math.log10(start + 1e-4), math.log10(stop), num_steps)\n",
    "spacing_fn = torch.linspace\n",
    "\n",
    "t_steps = spacing_fn(0, T, T_STEPS + 1)\n",
    "dt = t_steps[1:] - t_steps[:-1]"
   ]
  },
  {
   "cell_type": "code",
   "execution_count": 94,
   "id": "5d1eab47",
   "metadata": {},
   "outputs": [],
   "source": [
    "Us, As, t_steps, labels = generate_heat(\n",
    "    N=NUM_TEST_SAMPLES,\n",
    "    B=50,\n",
    "    S=S,\n",
    "    steps=T_STEPS,\n",
    "    dt=dt,\n",
    "    Lx=Lx,\n",
    "    Ly=Ly,\n",
    "    device=\"cuda\",\n",
    "    ic_seed=SEED\n",
    ")"
   ]
  },
  {
   "cell_type": "code",
   "execution_count": 95,
   "id": "4456c32d",
   "metadata": {},
   "outputs": [],
   "source": [
    "Us = torch.tensor(Us) if not isinstance(Us, torch.Tensor) else Us\n",
    "As = torch.tensor(As) if not isinstance(As, torch.Tensor) else As\n",
    "labels = torch.tensor(labels) if not isinstance(labels, torch.Tensor) else labels\n",
    "t_steps = torch.tensor(t_steps) if not isinstance(t_steps, torch.Tensor) else t_steps"
   ]
  },
  {
   "cell_type": "code",
   "execution_count": 96,
   "id": "2224ead7",
   "metadata": {},
   "outputs": [],
   "source": [
    "mask_a = torch.ones_like(As[0])\n",
    "mask_u = torch.zeros_like(Us[0, ..., 0])\n",
    "mask_u[0, :] = 1\n",
    "mask_u[-1, :] = 1\n",
    "mask_u[:, 0] = 1\n",
    "mask_u[:, -1] = 1\n",
    "\n",
    "dx = Lx / S\n",
    "ch_a = 1\n",
    "\n",
    "sample_shape = (32, 2, 64, 64)\n",
    "\n",
    "zeta_a = 50.0\n",
    "zeta_u = 5.0\n",
    "zeta_pde = 1.0\n",
    " \n",
    "num_steps = 40"
   ]
  },
  {
   "cell_type": "code",
   "execution_count": 102,
   "id": "3d888f26",
   "metadata": {},
   "outputs": [
    {
     "name": "stdout",
     "output_type": "stream",
     "text": [
      "Validating sample 1/50\n"
     ]
    },
    {
     "name": "stderr",
     "output_type": "stream",
     "text": [
      "100%|██████████| 101/101 [00:40<00:00,  2.51it/s]\n"
     ]
    },
    {
     "name": "stdout",
     "output_type": "stream",
     "text": [
      "Validating sample 2/50\n"
     ]
    },
    {
     "name": "stderr",
     "output_type": "stream",
     "text": [
      "100%|██████████| 101/101 [00:36<00:00,  2.75it/s]\n"
     ]
    }
   ],
   "source": [
    "errors = np.zeros((NUM_TEST_SAMPLES, t_steps.shape[0], sample_shape[0]))\n",
    "\n",
    "for i in range(2):\n",
    "    print(f\"Validating sample {i+1}/{NUM_TEST_SAMPLES}\")\n",
    "    alpha = float(data_labels[i, 0])\n",
    "    for j in trange(t_steps.shape[0]):\n",
    "        obs_a = As[i]\n",
    "        obs_u = Us[i, ..., j]\n",
    "        obs = torch.cat([obs_a, obs_u], dim=0)\n",
    "        loss_fn_kwargs = {\n",
    "            \"obs_a\": obs_a,\n",
    "            \"obs_u\": obs_u,\n",
    "            \"mask_a\": mask_a,\n",
    "            \"mask_u\": mask_u,\n",
    "            \"dx\": dx,\n",
    "            \"ch_a\": ch_a,\n",
    "            \"alpha\": alpha,\n",
    "        }\n",
    "        t_labels = torch.full((sample_shape[0], 1), t_steps[j])\n",
    "        a_labels = torch.full((sample_shape[0], 1), alpha)\n",
    "        labels = torch.cat([t_labels, a_labels], dim=1).to(device)\n",
    "\n",
    "        samples, _ = dpde.sampling.edm_sampler(\n",
    "            net=edm,\n",
    "            device=device,\n",
    "            sample_shape=sample_shape,\n",
    "            loss_fn=dpde.sampling.heat_loss,\n",
    "            loss_fn_kwargs=loss_fn_kwargs,\n",
    "            labels=labels,\n",
    "            zeta_a=zeta_a,\n",
    "            zeta_u=zeta_u,\n",
    "            zeta_pde=zeta_pde,\n",
    "            num_steps=num_steps,\n",
    "        )\n",
    "\n",
    "        errors[i, j, :] = torch.mean((torch.tensor(samples) - obs.unsqueeze(0)) ** 2, dim=(1, 2, 3)).detach().cpu().numpy()"
   ]
  },
  {
   "cell_type": "code",
   "execution_count": 108,
   "id": "af1afd2f",
   "metadata": {},
   "outputs": [],
   "source": [
    "mean_error = np.sqrt(errors).mean(axis=0)"
   ]
  },
  {
   "cell_type": "code",
   "execution_count": 109,
   "id": "3bf029fb",
   "metadata": {},
   "outputs": [
    {
     "data": {
      "text/plain": [
       "(101, 32)"
      ]
     },
     "execution_count": 109,
     "metadata": {},
     "output_type": "execute_result"
    }
   ],
   "source": [
    "mean_error.shape"
   ]
  },
  {
   "cell_type": "code",
   "execution_count": 110,
   "id": "ceb72e2e",
   "metadata": {},
   "outputs": [],
   "source": [
    "mu = mean_error.mean(axis=1)\n",
    "std = mean_error.std(axis=1)"
   ]
  },
  {
   "cell_type": "code",
   "execution_count": null,
   "id": "7095e3e4",
   "metadata": {},
   "outputs": [
    {
     "data": {
      "image/png": "[encoded data removed]",
      "text/plain": [
       "<Figure size 800x500 with 1 Axes>"
      ]
     },
     "metadata": {},
     "output_type": "display_data"
    }
   ],
   "source": [
    "fig, ax = plt.subplots(figsize=(8, 5))\n",
    "ax.plot(t_steps.numpy(), mu, label=\"Mean L2 Error\")\n",
    "ax.fill_between(\n",
    "    t_steps.numpy(),\n",
    "    mu - std,\n",
    "    mu + std,\n",
    "    alpha=0.3,\n",
    ")\n",
    "ax.set_xlabel(\"Time\")\n",
    "ax.set_ylabel(\"RMSE\")\n",
    "ax.set_title(\"RMSE over Time on Test Set\")\n",
    "ax.legend()\n",
    "plt.show()"
   ]
  },
  {
   "cell_type": "code",
   "execution_count": null,
   "id": "0f86e791",
   "metadata": {},
   "outputs": [],
   "source": []
  }
 ],
 "metadata": {
  "kernelspec": {
   "display_name": "dyndiffenv",
   "language": "python",
   "name": "python3"
  },
  "language_info": {
   "codemirror_mode": {
    "name": "ipython",
    "version": 3
   },
   "file_extension": ".py",
   "mimetype": "text/x-python",
   "name": "python",
   "nbconvert_exporter": "python",
   "pygments_lexer": "ipython3",
   "version": "3.11.13"
  }
 },
 "nbformat": 4,
 "nbformat_minor": 5
}
