{
 "cells": [
  {
   "cell_type": "code",
   "execution_count": 1,
   "id": "58641886",
   "metadata": {},
   "outputs": [],
   "source": [
    "import torch\n",
    "import wandb\n",
    "import diffusion_pde as dpde\n",
    "from pathlib import Path"
   ]
  },
  {
   "cell_type": "code",
   "execution_count": null,
   "id": "d96a1ba0",
   "metadata": {},
   "outputs": [
    {
     "data": {
      "text/plain": [
       "True"
      ]
     },
     "execution_count": 2,
     "metadata": {},
     "output_type": "execute_result"
    }
   ],
   "source": [
    "log_dir = Path().cwd().parent / \"logs\"\n",
    "pretrained_dir = Path().cwd().parent / \"pretrained_models\"\n",
    "\n",
    "data_names = [\"logt\", \"lineart\"]\n",
    "model_paths = [pretrained_dir / f\"heat_{name}.pth\" for name in data_names]\n",
    "\n",
    "all(model_path.exists() for model_path in model_paths)"
   ]
  },
  {
   "cell_type": "code",
   "execution_count": null,
   "id": "978ba354",
   "metadata": {},
   "outputs": [
    {
     "name": "stdout",
     "output_type": "stream",
     "text": [
      "pretrained-models-heat\n"
     ]
    }
   ],
   "source": [
    "ENTITY = \"philiphohwy-danmarks-tekniske-universitet-dtu\"\n",
    "PROJECT = \"dynamical-pde-diffusion\"\n",
    "\n",
    "api = wandb.Api()\n",
    "\n",
    "# Only \"model\" artifacts, for example\n",
    "t = api.artifact_type(type_name=\"model\", project=f\"{ENTITY}/{PROJECT}\")\n",
    "for coll in t.collections():\n",
    "    print(coll.name, )"
   ]
  },
  {
   "cell_type": "code",
   "execution_count": 3,
   "id": "8685513c",
   "metadata": {},
   "outputs": [],
   "source": [
    "wandb_kwargs = {\n",
    "    \"entity\": \"philiphohwy-danmarks-tekniske-universitet-dtu\",\n",
    "    \"project\": \"dynamical-pde-diffusion\",\n",
    "    \"dir\": str(log_dir),\n",
    "}"
   ]
  },
  {
   "cell_type": "code",
   "execution_count": null,
   "id": "bd743be9",
   "metadata": {},
   "outputs": [
    {
     "data": {
      "text/html": [],
      "text/plain": [
       "<IPython.core.display.HTML object>"
      ]
     },
     "metadata": {},
     "output_type": "display_data"
    },
    {
     "data": {
      "text/html": [
       "Tracking run with wandb version 0.22.1"
      ],
      "text/plain": [
       "<IPython.core.display.HTML object>"
      ]
     },
     "metadata": {},
     "output_type": "display_data"
    },
    {
     "data": {
      "text/html": [
       "Run data is saved locally in <code>/home/s204790/dynamical-pde-diffusion/logs/wandb/run-20251027_113512-lvdvupv4</code>"
      ],
      "text/plain": [
       "<IPython.core.display.HTML object>"
      ]
     },
     "metadata": {},
     "output_type": "display_data"
    },
    {
     "data": {
      "text/html": [
       "Syncing run <strong><a href='https://wandb.ai/philiphohwy-danmarks-tekniske-universitet-dtu/dynamical-pde-diffusion/runs/lvdvupv4' target=\"_blank\">pretty-breeze-13</a></strong> to <a href='https://wandb.ai/philiphohwy-danmarks-tekniske-universitet-dtu/dynamical-pde-diffusion' target=\"_blank\">Weights & Biases</a> (<a href='https://wandb.me/developer-guide' target=\"_blank\">docs</a>)<br>"
      ],
      "text/plain": [
       "<IPython.core.display.HTML object>"
      ]
     },
     "metadata": {},
     "output_type": "display_data"
    },
    {
     "data": {
      "text/html": [
       " View project at <a href='https://wandb.ai/philiphohwy-danmarks-tekniske-universitet-dtu/dynamical-pde-diffusion' target=\"_blank\">https://wandb.ai/philiphohwy-danmarks-tekniske-universitet-dtu/dynamical-pde-diffusion</a>"
      ],
      "text/plain": [
       "<IPython.core.display.HTML object>"
      ]
     },
     "metadata": {},
     "output_type": "display_data"
    },
    {
     "data": {
      "text/html": [
       " View run at <a href='https://wandb.ai/philiphohwy-danmarks-tekniske-universitet-dtu/dynamical-pde-diffusion/runs/lvdvupv4' target=\"_blank\">https://wandb.ai/philiphohwy-danmarks-tekniske-universitet-dtu/dynamical-pde-diffusion/runs/lvdvupv4</a>"
      ],
      "text/plain": [
       "<IPython.core.display.HTML object>"
      ]
     },
     "metadata": {},
     "output_type": "display_data"
    },
    {
     "data": {
      "text/html": [],
      "text/plain": [
       "<IPython.core.display.HTML object>"
      ]
     },
     "metadata": {},
     "output_type": "display_data"
    },
    {
     "data": {
      "text/html": [
       " View run <strong style=\"color:#cdcd00\">pretty-breeze-13</strong> at: <a href='https://wandb.ai/philiphohwy-danmarks-tekniske-universitet-dtu/dynamical-pde-diffusion/runs/lvdvupv4' target=\"_blank\">https://wandb.ai/philiphohwy-danmarks-tekniske-universitet-dtu/dynamical-pde-diffusion/runs/lvdvupv4</a><br> View project at: <a href='https://wandb.ai/philiphohwy-danmarks-tekniske-universitet-dtu/dynamical-pde-diffusion' target=\"_blank\">https://wandb.ai/philiphohwy-danmarks-tekniske-universitet-dtu/dynamical-pde-diffusion</a><br>Synced 5 W&B file(s), 0 media file(s), 3 artifact file(s) and 0 other file(s)"
      ],
      "text/plain": [
       "<IPython.core.display.HTML object>"
      ]
     },
     "metadata": {},
     "output_type": "display_data"
    },
    {
     "data": {
      "text/html": [
       "Find logs at: <code>/home/s204790/dynamical-pde-diffusion/logs/wandb/run-20251027_113512-lvdvupv4/logs</code>"
      ],
      "text/plain": [
       "<IPython.core.display.HTML object>"
      ]
     },
     "metadata": {},
     "output_type": "display_data"
    }
   ],
   "source": [
    "with wandb.init(**wandb_kwargs) as run:\n",
    "    artifact = wandb.Artifact(name=\"pretrained-models-heat\", type=\"model\")\n",
    "    [artifact.add_file(pth) for pth in model_paths];\n",
    "    artifact.metadata = {\n",
    "        \"description\": \"Pretrained models for the heat equation on different datasets.\",\n",
    "        \"data_names\": data_names,\n",
    "    }\n",
    "    run.log_artifact(artifact)"
   ]
  },
  {
   "cell_type": "code",
   "execution_count": 15,
   "id": "2946c01d",
   "metadata": {},
   "outputs": [],
   "source": [
    "api = wandb.Api()\n",
    "artifact = api.artifact(\"philiphohwy-danmarks-tekniske-universitet-dtu/dynamical-pde-diffusion/pretrained-models-heat:latest\")"
   ]
  },
  {
   "cell_type": "code",
   "execution_count": null,
   "id": "b315bc1f",
   "metadata": {},
   "outputs": [
    {
     "name": "stderr",
     "output_type": "stream",
     "text": [
      "\u001b[34m\u001b[1mwandb\u001b[0m:   2 of 2 files downloaded.  \n"
     ]
    }
   ],
   "source": [
    "pth = artifact.download(root=pretrained_dir, )"
   ]
  }
 ],
 "metadata": {
  "kernelspec": {
   "display_name": "dyndiffenv",
   "language": "python",
   "name": "python3"
  },
  "language_info": {
   "codemirror_mode": {
    "name": "ipython",
    "version": 3
   },
   "file_extension": ".py",
   "mimetype": "text/x-python",
   "name": "python",
   "nbconvert_exporter": "python",
   "pygments_lexer": "ipython3",
   "version": "3.11.13"
  }
 },
 "nbformat": 4,
 "nbformat_minor": 5
}
